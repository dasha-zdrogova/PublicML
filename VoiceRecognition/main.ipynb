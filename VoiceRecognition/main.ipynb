{
 "cells": [
  {
   "cell_type": "code",
   "execution_count": 3,
   "metadata": {},
   "outputs": [],
   "source": [
    "import glob\n",
    "\n",
    "songs = glob.glob('C:/Users/Marat/Desktop/code/machine_learning_spbu/VoiceRecognition/**/*.wav', recursive=True)"
   ]
  },
  {
   "cell_type": "code",
   "execution_count": 4,
   "metadata": {},
   "outputs": [],
   "source": [
    "output_filepath = \"C:\\\\Users\\\\Marat\\\\Desktop\\\\code\\\\machine_learning_spbu\\\\VoiceRecognition\\\\Transcipts\\\\\"\n",
    "bucketname = \"maratvoicebucket\"\n",
    "\n",
    "from pydub import AudioSegment\n",
    "import io\n",
    "import os\n",
    "from google.cloud import speech\n",
    "from google.cloud import storage\n",
    "from google.cloud.speech_v1 import types\n",
    "import wave"
   ]
  },
  {
   "cell_type": "code",
   "execution_count": 33,
   "metadata": {},
   "outputs": [],
   "source": [
    "for song in songs:\n",
    "    sound = AudioSegment.from_wav(song)\n",
    "    sound = sound.set_channels(1)\n",
    "    sound.export(song, format=\"wav\")"
   ]
  },
  {
   "cell_type": "code",
   "execution_count": 5,
   "metadata": {},
   "outputs": [],
   "source": [
    "def frame_rate_channel(audio_file_name):\n",
    "    with wave.open(audio_file_name, \"rb\") as wave_file:\n",
    "        frame_rate = wave_file.getframerate()\n",
    "        channels = wave_file.getnchannels()\n",
    "        return frame_rate,channels"
   ]
  },
  {
   "cell_type": "code",
   "execution_count": 6,
   "metadata": {},
   "outputs": [],
   "source": [
    "def upload_blob(bucket_name, source_file_name, destination_blob_name):\n",
    "    storage_client = storage.Client.from_service_account_json('voice-recognition-335907-1f6a450abff9.json')\n",
    "    bucket = storage_client.get_bucket(bucket_name)\n",
    "    blob = bucket.blob(destination_blob_name)\n",
    "\n",
    "    blob.upload_from_filename(source_file_name)"
   ]
  },
  {
   "cell_type": "code",
   "execution_count": 7,
   "metadata": {},
   "outputs": [],
   "source": [
    "def delete_blob(bucket_name, blob_name):\n",
    "    storage_client = storage.Client.from_service_account_json('voice-recognition-335907-1f6a450abff9.json')\n",
    "    bucket = storage_client.get_bucket(bucket_name)\n",
    "    blob = bucket.blob(blob_name)\n",
    "\n",
    "    blob.delete()"
   ]
  },
  {
   "cell_type": "code",
   "execution_count": 8,
   "metadata": {},
   "outputs": [],
   "source": [
    "def google_transcribe(audio_file_name):    \n",
    "    frame_rate, channels = frame_rate_channel(audio_file_name)\n",
    "    \n",
    "    bucket_name = bucketname\n",
    "    source_file_name = audio_file_name\n",
    "    destination_blob_name = audio_file_name\n",
    "    \n",
    "    upload_blob(bucket_name, source_file_name, destination_blob_name)\n",
    "    \n",
    "    gcs_uri = 'gs://' + bucketname + '/' + audio_file_name\n",
    "    transcript = ''\n",
    "    \n",
    "    client = speech.SpeechClient.from_service_account_json('voice-recognition-335907-1f6a450abff9.json')\n",
    "    audio = types.RecognitionAudio(uri=gcs_uri)\n",
    "\n",
    "    config = types.RecognitionConfig(\n",
    "        encoding = speech.RecognitionConfig.AudioEncoding.LINEAR16,\n",
    "        sample_rate_hertz=frame_rate,\n",
    "        language_code='en-US')\n",
    "\n",
    "    operation = client.long_running_recognize(request={\"config\": config, \"audio\": audio})\n",
    "    response = operation.result(timeout=10000)\n",
    "\n",
    "    for result in response.results:\n",
    "        transcript += result.alternatives[0].transcript\n",
    "    \n",
    "    delete_blob(bucket_name, destination_blob_name)\n",
    "    return transcript"
   ]
  },
  {
   "cell_type": "code",
   "execution_count": 9,
   "metadata": {},
   "outputs": [],
   "source": [
    "def write_transcripts(transcript_filename, transcript):\n",
    "    f = open(transcript_filename, \"w+\")\n",
    "    f.write(transcript)\n",
    "    f.close()"
   ]
  },
  {
   "cell_type": "code",
   "execution_count": 11,
   "metadata": {},
   "outputs": [
    {
     "name": "stdout",
     "output_type": "stream",
     "text": [
      "The Pit and the Pendulum by Edgar Allan Poe read by Rod Harrison I was sick sick unto death with that long Agony and when they at length Unbound me and I was permitted to sit I felt that my senses were leaving me the sentence The Dread sentence of death was the last of distinct accentuation which reached my ears after that the sound of the inquisitorial voice emerged in one dreamy indeterminate hum it conveyed to my soul the idea of Revolution perhaps from its Association and fancy with the borough of a mill-wheel this only for a brief period for presently I heard no more yet for a while I saw and with how terrible and exaggerated\n"
     ]
    }
   ],
   "source": [
    "# for audio_file_name in songs[55:]:\n",
    "audio_file_name = 'The_Pit_and_the_Pendulum_one_minute.wav'\n",
    "transcript = google_transcribe(audio_file_name)\n",
    "# transcript_filename = audio_file_name.split('.wav')[0] + '.txt'\n",
    "# transcript_filename = transcript_filename.split('\\\\')[-1]\n",
    "# write_transcripts(transcript_filename, transcript)\n",
    "print(transcript)"
   ]
  },
  {
   "cell_type": "code",
   "execution_count": 110,
   "metadata": {},
   "outputs": [],
   "source": [
    "text = google_transcribe('first_times_one_minute_only_vocals.wav')"
   ]
  },
  {
   "cell_type": "code",
   "execution_count": 111,
   "metadata": {},
   "outputs": [
    {
     "data": {
      "text/plain": [
       "'go to feel different playing wimbley 80000 singing with me sweat up and chasing this is the dream when it was sold over grabbed a couple days just me and you then we start talking San Antonio them things left me little more'"
      ]
     },
     "execution_count": 111,
     "metadata": {},
     "output_type": "execute_result"
    }
   ],
   "source": [
    "text"
   ]
  },
  {
   "cell_type": "code",
   "execution_count": 107,
   "metadata": {},
   "outputs": [
    {
     "data": {
      "text/plain": [
       "<_io.BufferedRandom name='first_times_one_minute_only_vocals.wav'>"
      ]
     },
     "execution_count": 107,
     "metadata": {},
     "output_type": "execute_result"
    }
   ],
   "source": [
    "from pydub import AudioSegment\n",
    "t = 60 * 1000\n",
    "\n",
    "audio = AudioSegment.from_mp3('first_times_one_minute_only_vocals.mp3')\n",
    "# audio = audio[:t]\n",
    "audio.export('first_times_one_minute_only_vocals.wav', format='wav')"
   ]
  },
  {
   "cell_type": "code",
   "execution_count": 109,
   "metadata": {},
   "outputs": [
    {
     "data": {
      "text/plain": [
       "<_io.BufferedRandom name='first_times_one_minute_only_vocals.wav'>"
      ]
     },
     "execution_count": 109,
     "metadata": {},
     "output_type": "execute_result"
    }
   ],
   "source": [
    "sound = AudioSegment.from_wav('first_times_one_minute_only_vocals.wav')\n",
    "sound = sound.set_channels(1)\n",
    "sound.export('first_times_one_minute_only_vocals.wav', format=\"wav\")"
   ]
  },
  {
   "cell_type": "code",
   "execution_count": null,
   "metadata": {},
   "outputs": [],
   "source": []
  }
 ],
 "metadata": {
  "interpreter": {
   "hash": "cfb225017eaa60033242ade7cd3aecd3095cd8c212fd294680e6df342bf262c4"
  },
  "kernelspec": {
   "display_name": "Python 3.9.1 64-bit",
   "language": "python",
   "name": "python3"
  },
  "language_info": {
   "codemirror_mode": {
    "name": "ipython",
    "version": 3
   },
   "file_extension": ".py",
   "mimetype": "text/x-python",
   "name": "python",
   "nbconvert_exporter": "python",
   "pygments_lexer": "ipython3",
   "version": "3.9.1"
  },
  "orig_nbformat": 4
 },
 "nbformat": 4,
 "nbformat_minor": 2
}
